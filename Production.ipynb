{
 "cells": [
  {
   "cell_type": "code",
   "execution_count": 35,
   "id": "c90ea7bc",
   "metadata": {},
   "outputs": [],
   "source": [
    "import numpy as np\n",
    "from pickle import load"
   ]
  },
  {
   "cell_type": "code",
   "execution_count": 36,
   "id": "3cae3ed0",
   "metadata": {},
   "outputs": [],
   "source": [
    "# Loading pretrained classifiers from pickle file\n",
    "\n",
    "scaler = load(open('models/standard_scaler.pkl', 'rb'))\n",
    "knn_classifier = load(open('models/knn_model.pkl', 'rb'))\n",
    "lr_classifier = load(open('models/lr_model.pkl', 'rb'))\n",
    "nb_classifier = load(open('models/nb_model.pkl', 'rb'))\n",
    "dt_classifier = load(open('models/dt_model.pkl', 'rb'))\n",
    "sv_classifier = load(open('models/sv_model.pkl', 'rb'))"
   ]
  },
  {
   "cell_type": "code",
   "execution_count": 37,
   "id": "f70bf6b2",
   "metadata": {},
   "outputs": [
    {
     "name": "stdout",
     "output_type": "stream",
     "text": [
      "Enter Details\n",
      "Enter Gender: Male\n",
      "Enter Age: 40\n",
      "Suffering from Hypertension No\n",
      "Suffering from heart_disease: No\n",
      "Smoking Habit:current\n",
      "Enter BMI: 49\n",
      "Enter HbA1c_level: 7.5\n",
      "Enter blood_glucose_level: 140\n"
     ]
    }
   ],
   "source": [
    "# Read the Query Data\n",
    "\n",
    "print(\"Enter Details\")\n",
    "gender = input('Enter Gender: ')\n",
    "age = int(input('Enter Age: '))\n",
    "hypertension = input('Suffering from Hypertension ')\n",
    "heart_disease = input('Suffering from heart_disease: ')\n",
    "smoking_history = input(\"Smoking Habit:\")\n",
    "bmi = float(input(\"Enter BMI: \"))\n",
    "HbA1c_level = float(input(\"Enter HbA1c_level: \"))\n",
    "blood_glucose_level = int(input(\"Enter blood_glucose_level: \"))"
   ]
  },
  {
   "cell_type": "code",
   "execution_count": 38,
   "id": "35a14244",
   "metadata": {},
   "outputs": [],
   "source": [
    "if gender == \"Female\":\n",
    "    gnd = 0\n",
    "elif gender == \"Male\":\n",
    "    gnd = 1\n",
    "else:\n",
    "    gnd = 2"
   ]
  },
  {
   "cell_type": "code",
   "execution_count": 39,
   "id": "d56bbacb",
   "metadata": {},
   "outputs": [],
   "source": [
    "if hypertension == 'Yes':\n",
    "    hyp = 1\n",
    "else:\n",
    "    hyp = 0"
   ]
  },
  {
   "cell_type": "code",
   "execution_count": 40,
   "id": "58653e14",
   "metadata": {},
   "outputs": [],
   "source": [
    "if heart_disease == \"Yes\":\n",
    "    hrt = 1\n",
    "else:\n",
    "    hrt = 0"
   ]
  },
  {
   "cell_type": "code",
   "execution_count": 41,
   "id": "be64b913",
   "metadata": {},
   "outputs": [],
   "source": [
    "if smoking_history == \"never\":\n",
    "    smoke = 0\n",
    "elif smoking_history == \"No Info\":\n",
    "    smoke = -1\n",
    "elif smoking_history == \"current\":\n",
    "    smoke = 2\n",
    "elif smoking_history == \"former\":\n",
    "    smoke = 1\n",
    "elif smoking_history == \"ever\":\n",
    "    smoke = 2\n",
    "else:\n",
    "    smoke = 0"
   ]
  },
  {
   "cell_type": "code",
   "execution_count": 42,
   "id": "562cde14",
   "metadata": {},
   "outputs": [
    {
     "name": "stderr",
     "output_type": "stream",
     "text": [
      "D:\\Python310\\lib\\site-packages\\sklearn\\base.py:450: UserWarning: X does not have valid feature names, but StandardScaler was fitted with feature names\n",
      "  warnings.warn(\n"
     ]
    }
   ],
   "source": [
    "query_point_transformed = scaler.transform([[gnd, age, hyp, hrt, smoke, bmi, HbA1c_level, blood_glucose_level]])"
   ]
  },
  {
   "cell_type": "code",
   "execution_count": 43,
   "id": "591e143b",
   "metadata": {},
   "outputs": [
    {
     "name": "stderr",
     "output_type": "stream",
     "text": [
      "D:\\Python310\\lib\\site-packages\\sklearn\\base.py:450: UserWarning: X does not have valid feature names, but KNeighborsClassifier was fitted with feature names\n",
      "  warnings.warn(\n"
     ]
    },
    {
     "data": {
      "text/plain": [
       "array(['Diabetic'], dtype=object)"
      ]
     },
     "execution_count": 43,
     "metadata": {},
     "output_type": "execute_result"
    }
   ],
   "source": [
    "knn_classifier.predict(query_point_transformed)"
   ]
  },
  {
   "cell_type": "code",
   "execution_count": null,
   "id": "8315329e",
   "metadata": {},
   "outputs": [],
   "source": []
  },
  {
   "cell_type": "code",
   "execution_count": null,
   "id": "f1b3ec77",
   "metadata": {},
   "outputs": [],
   "source": []
  }
 ],
 "metadata": {
  "kernelspec": {
   "display_name": "Python 3 (ipykernel)",
   "language": "python",
   "name": "python3"
  },
  "language_info": {
   "codemirror_mode": {
    "name": "ipython",
    "version": 3
   },
   "file_extension": ".py",
   "mimetype": "text/x-python",
   "name": "python",
   "nbconvert_exporter": "python",
   "pygments_lexer": "ipython3",
   "version": "3.10.7"
  }
 },
 "nbformat": 4,
 "nbformat_minor": 5
}
